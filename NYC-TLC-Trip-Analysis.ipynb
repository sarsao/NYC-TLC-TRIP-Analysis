{
 "cells": [
  {
   "cell_type": "markdown",
   "metadata": {},
   "source": [
    "## **NYC TLC TRIP**\n",
    "\n",
    "**Objective**\n",
    "\n",
    "The goal of this project is to conduct a comprehensive analysis of the NYC Taxi and Limousine Commission (TLC) trip data. The analysis encompasses data cleaning, handling missing values, identifying outliers, and exploring the distribution of key variables. The visualization aspects of the project aim to provide valuable insights for the marketing team, particularly focusing on Average Passenger Count Over Months, Weekday vs. Weekend Analysis, and Payment Type Distribution Over Months.\n",
    "\n",
    "**Data Cleaning**\n",
    "In the initial phase, thorough data cleaning is performed to ensure data integrity and consistency. This involves addressing any anomalies in the dataset, converting data types, and handling missing values. The datetime columns are converted to the appropriate format, and additional features such as pickup hour, day, and month are derived for further analysis.\n",
    "\n",
    "**Preprocessing**\n",
    "After data cleaning, the preprocessing stage involves additional steps to prepare the dataset for analysis. This includes further feature engineering, handling missing values through imputation techniques, and addressing outliers using statistical methods. The dataset is refined and made suitable for subsequent analysis.\n",
    "\n",
    "**Outlier Detection**\n",
    "Outliers, if present, are identified using statistical methods. Addressing outliers is crucial for obtaining accurate insights, and the chosen approach is explained to maintain data integrity.\n",
    "\n",
    "**Distribution Analysis**\n",
    "The distribution analysis involves exploring the nature of the data, conducting normality tests, and performing specific analyses related to key metrics. Several targeted analyses are undertaken, focusing on:\n",
    "\n",
    "Average Trip Distance Over Cohorts:\n",
    "The distribution of average trip distance over different cohorts is examined.\n",
    "A detailed analysis is conducted to understand how trip distance varies across different periods.\n",
    "\n",
    "Average Passenger Count Over Cohorts:\n",
    "The distribution of average passenger count over cohorts is explored.\n",
    "Insights are derived to understand passenger count patterns across various cohorts.\n",
    "\n",
    "Weekday vs. Weekend Analysis:\n",
    "The distribution of trip counts or distances is analyzed to discern patterns between weekdays and weekends.\n",
    "Visualizations highlight variations in trip characteristics on weekdays compared to weekends.\n",
    "\n",
    "Payment Type Distribution Over Cohorts:\n",
    "The distribution of payment types over cohorts is examined.\n",
    "Specific insights are drawn regarding the popularity of different payment methods over time.\n",
    "Normality tests are conducted to assess if the data follows a normal distribution. Visualization tools, including histograms and density plots, are employed to provide a clear understanding of the data distribution for each analysis."
   ]
  },
  {
   "cell_type": "markdown",
   "metadata": {},
   "source": [
    "## **Columns Description**\n",
    "**VendorID** : A code indicating the LPEP provider that provided the record.\n",
    "1 = Creative Mobile Technologies, LLC.\n",
    "2 = VeriFone Inc.\n",
    "\n",
    "**lpep_pickup_datetime**: The date and time when the meter was engaged.\n",
    "\n",
    "**lpep_dropoff_datetime**: The date and time when the meter was disengaged.\n",
    "\n",
    "**Passenger_count**: The number of passengers in the vehicle. This is a driver-entered value.\n",
    "\n",
    "**Trip_distance**: The elapsed trip distance in miles was reported by the taximeter.\n",
    "\n",
    "**PULocationID**: TLC Taxi Zone in which the taximeter was engaged.\n",
    "\n",
    "**DOLocationID**: TLC Taxi Zone in which the taximeter was disengaged.\n",
    "\n",
    "**RateCodeID**: The final rate code is in effect at the end of the trip.\n",
    "1 = Standard rate\n",
    "2 = JFK\n",
    "3 = Newark\n",
    "4 = Nassau or Westchester\n",
    "5 = Negotiated fare\n",
    "6 = Group ride\n",
    "\n",
    "**Store_and_fwd_flag**: This flag indicates whether the trip record was held in the vehicle memory before sending to the vendor, aka “store and forward,” because the vehicle did not have a connection to the server.\n",
    "Y = store and forward trip\n",
    "N = not a store and forward trip\n",
    "\n",
    "**Payment_type**: A numeric code signifying how the passenger paid for the trip.\n",
    "1 = Credit card\n",
    "2 = Cash\n",
    "3 = No charge\n",
    "4 = Dispute\n",
    "5 = Unknown\n",
    "6 = Voided trip\n",
    "\n",
    "**Fare_amount**: The time-and-distance fare is calculated by the meter. Extra Miscellaneous extras and surcharges. Currently, this only includes the $0.50 and $1 rush hour and overnight charges.\n",
    "\n",
    "**MTA_tax**: $0.50 MTA tax that is automatically triggered based on the metered rate in use. \n",
    "\n",
    "**Improvement_surcharge**: $0.30 improvement surcharge assessed on hailed trips at the flag drop. The improvement surcharge began being levied in 2015.\n",
    "\n",
    "**Tip_amount**: This field is automatically populated for credit card tips. Cash tips are not included.\n",
    "\n",
    "**Tolls_amount**: The total amount of all tolls paid in the trip.\n",
    "\n",
    "**Total_amount**:The total amount charged to passengers. Does not include cash tips.\n",
    "\n",
    "**Trip_type**: A code indicating whether the trip was a street hail or a dispatch that is automatically assigned based on the metered rate in use but can be altered by the driver.\n",
    "1 = Street-hail\n",
    "2 = Dispatch"
   ]
  },
  {
   "cell_type": "code",
   "execution_count": 2,
   "metadata": {},
   "outputs": [
    {
     "name": "stderr",
     "output_type": "stream",
     "text": [
      "/opt/anaconda3/lib/python3.8/site-packages/pandas/core/computation/expressions.py:20: UserWarning: Pandas requires version '2.7.3' or newer of 'numexpr' (version '2.7.1' currently installed).\n",
      "  from pandas.core.computation.check import NUMEXPR_INSTALLED\n"
     ]
    }
   ],
   "source": [
    "# Import libraries\n",
    "import pandas as pd\n",
    "import matplotlib.pyplot as plt\n",
    "import seaborn as sns"
   ]
  },
  {
   "cell_type": "markdown",
   "metadata": {},
   "source": [
    "## **Data Cleaning**\n",
    "\n",
    "1. Load Libraries\n",
    "2. Display Dataset\n",
    "3. Drop Column that are no longer needed to be analysed\n",
    "4. Check Missing Values"
   ]
  },
  {
   "cell_type": "code",
   "execution_count": 3,
   "metadata": {},
   "outputs": [
    {
     "name": "stderr",
     "output_type": "stream",
     "text": [
      "<ipython-input-3-7582f18432f4>:2: DtypeWarning: Columns (3) have mixed types. Specify dtype option on import or set low_memory=False.\n",
      "  df = pd.read_csv('NYC TLC Trip Record.csv')\n"
     ]
    },
    {
     "name": "stdout",
     "output_type": "stream",
     "text": [
      "<class 'pandas.core.frame.DataFrame'>\n",
      "RangeIndex: 68211 entries, 0 to 68210\n",
      "Data columns (total 20 columns):\n",
      " #   Column                 Non-Null Count  Dtype  \n",
      "---  ------                 --------------  -----  \n",
      " 0   VendorID               68211 non-null  int64  \n",
      " 1   lpep_pickup_datetime   68211 non-null  object \n",
      " 2   lpep_dropoff_datetime  68211 non-null  object \n",
      " 3   store_and_fwd_flag     63887 non-null  object \n",
      " 4   RatecodeID             63887 non-null  float64\n",
      " 5   PULocationID           68211 non-null  int64  \n",
      " 6   DOLocationID           68211 non-null  int64  \n",
      " 7   passenger_count        63887 non-null  float64\n",
      " 8   trip_distance          68211 non-null  float64\n",
      " 9   fare_amount            68211 non-null  float64\n",
      " 10  extra                  68211 non-null  float64\n",
      " 11  mta_tax                68211 non-null  float64\n",
      " 12  tip_amount             68211 non-null  float64\n",
      " 13  tolls_amount           68211 non-null  float64\n",
      " 14  ehail_fee              0 non-null      float64\n",
      " 15  improvement_surcharge  68211 non-null  float64\n",
      " 16  total_amount           68211 non-null  float64\n",
      " 17  payment_type           63887 non-null  float64\n",
      " 18  trip_type              63877 non-null  float64\n",
      " 19  congestion_surcharge   63887 non-null  float64\n",
      "dtypes: float64(14), int64(3), object(3)\n",
      "memory usage: 10.4+ MB\n"
     ]
    }
   ],
   "source": [
    "# Load the dataset\n",
    "df = pd.read_csv('NYC TLC Trip Record.csv')\n",
    "\n",
    "# Display the dataset\n",
    "df.info()"
   ]
  },
  {
   "cell_type": "code",
   "execution_count": 4,
   "metadata": {},
   "outputs": [],
   "source": [
    "# Drop unnecessary columns (replace with the actual column names)\n",
    "columns_to_drop = ['ehail_fee','store_and_fwd_flag','PULocationID','DOLocationID','improvement_surcharge','congestion_surcharge']\n",
    "df = df.drop(columns=columns_to_drop, axis=1)"
   ]
  },
  {
   "cell_type": "code",
   "execution_count": 5,
   "metadata": {},
   "outputs": [
    {
     "data": {
      "text/plain": [
       "VendorID                    0\n",
       "lpep_pickup_datetime        0\n",
       "lpep_dropoff_datetime       0\n",
       "RatecodeID               4324\n",
       "passenger_count          4324\n",
       "trip_distance               0\n",
       "fare_amount                 0\n",
       "extra                       0\n",
       "mta_tax                     0\n",
       "tip_amount                  0\n",
       "tolls_amount                0\n",
       "total_amount                0\n",
       "payment_type             4324\n",
       "trip_type                4334\n",
       "dtype: int64"
      ]
     },
     "execution_count": 5,
     "metadata": {},
     "output_type": "execute_result"
    }
   ],
   "source": [
    "# Check for missing values\n",
    "df.isnull().sum()"
   ]
  },
  {
   "cell_type": "code",
   "execution_count": 6,
   "metadata": {},
   "outputs": [
    {
     "name": "stdout",
     "output_type": "stream",
     "text": [
      "<class 'pandas.core.frame.DataFrame'>\n",
      "RangeIndex: 68211 entries, 0 to 68210\n",
      "Data columns (total 14 columns):\n",
      " #   Column                 Non-Null Count  Dtype  \n",
      "---  ------                 --------------  -----  \n",
      " 0   VendorID               68211 non-null  int64  \n",
      " 1   lpep_pickup_datetime   68211 non-null  object \n",
      " 2   lpep_dropoff_datetime  68211 non-null  object \n",
      " 3   RatecodeID             63887 non-null  float64\n",
      " 4   passenger_count        63887 non-null  float64\n",
      " 5   trip_distance          68211 non-null  float64\n",
      " 6   fare_amount            68211 non-null  float64\n",
      " 7   extra                  68211 non-null  float64\n",
      " 8   mta_tax                68211 non-null  float64\n",
      " 9   tip_amount             68211 non-null  float64\n",
      " 10  tolls_amount           68211 non-null  float64\n",
      " 11  total_amount           68211 non-null  float64\n",
      " 12  payment_type           63887 non-null  float64\n",
      " 13  trip_type              63877 non-null  float64\n",
      "dtypes: float64(11), int64(1), object(2)\n",
      "memory usage: 7.3+ MB\n"
     ]
    }
   ],
   "source": [
    "# Display the information of DataFrame\n",
    "df.info()"
   ]
  },
  {
   "cell_type": "markdown",
   "metadata": {},
   "source": [
    "## **Preprocessing**"
   ]
  },
  {
   "cell_type": "markdown",
   "metadata": {},
   "source": [
    "**RateCodeID**"
   ]
  },
  {
   "cell_type": "code",
   "execution_count": 7,
   "metadata": {},
   "outputs": [
    {
     "data": {
      "text/plain": [
       "4043.280307351173"
      ]
     },
     "execution_count": 7,
     "metadata": {},
     "output_type": "execute_result"
    }
   ],
   "source": [
    "# check with skew of RateCodeID\n",
    "df['RatecodeID'].skew()\n",
    "\n",
    "# check with kurtosis of RateCodeID\n",
    "df['RatecodeID'].kurtosis()"
   ]
  },
  {
   "cell_type": "code",
   "execution_count": 8,
   "metadata": {},
   "outputs": [
    {
     "data": {
      "text/plain": [
       "<Axes: xlabel='RatecodeID', ylabel='Count'>"
      ]
     },
     "execution_count": 8,
     "metadata": {},
     "output_type": "execute_result"
    },
    {
     "data": {
      "image/png": "[encoded data removed]",
      "text/plain": [
       "<Figure size 432x288 with 1 Axes>"
      ]
     },
     "metadata": {
      "needs_background": "light"
     },
     "output_type": "display_data"
    }
   ],
   "source": [
    "# check with histogram of RateCodeID\n",
    "sns.histplot(data=df, x='RatecodeID', kde=True)"
   ]
  },
  {
   "cell_type": "markdown",
   "metadata": {},
   "source": [
    "**Passenger_Count**"
   ]
  },
  {
   "cell_type": "code",
   "execution_count": 9,
   "metadata": {},
   "outputs": [
    {
     "data": {
      "text/plain": [
       "11.963156559599348"
      ]
     },
     "execution_count": 9,
     "metadata": {},
     "output_type": "execute_result"
    }
   ],
   "source": [
    "# check with skew of passenger_count\n",
    "df['passenger_count'].skew()\n",
    "\n",
    "# check with kurtosis\n",
    "df['passenger_count'].kurtosis()"
   ]
  },
  {
   "cell_type": "code",
   "execution_count": 10,
   "metadata": {},
   "outputs": [
    {
     "data": {
      "text/plain": [
       "<Axes: xlabel='passenger_count', ylabel='Count'>"
      ]
     },
     "execution_count": 10,
     "metadata": {},
     "output_type": "execute_result"
    },
    {
     "data": {
      "image/png": "[encoded data removed]",
      "text/plain": [
       "<Figure size 432x288 with 1 Axes>"
      ]
     },
     "metadata": {
      "needs_background": "light"
     },
     "output_type": "display_data"
    }
   ],
   "source": [
    "# check with histogram \n",
    "sns.histplot(data=df, x='passenger_count', kde=True)"
   ]
  },
  {
   "cell_type": "markdown",
   "metadata": {},
   "source": [
    "**Payment_Type**"
   ]
  },
  {
   "cell_type": "code",
   "execution_count": 11,
   "metadata": {},
   "outputs": [
    {
     "data": {
      "text/plain": [
       "-0.07561706275629154"
      ]
     },
     "execution_count": 11,
     "metadata": {},
     "output_type": "execute_result"
    }
   ],
   "source": [
    "# check with skew of payment_type\n",
    "df['payment_type'].skew()\n",
    "\n",
    "# check with kurtosis\n",
    "df['payment_type'].kurtosis()"
   ]
  },
  {
   "cell_type": "code",
   "execution_count": 12,
   "metadata": {},
   "outputs": [
    {
     "data": {
      "text/plain": [
       "<Axes: xlabel='payment_type', ylabel='Count'>"
      ]
     },
     "execution_count": 12,
     "metadata": {},
     "output_type": "execute_result"
    },
    {
     "data": {
      "image/png": "[encoded data removed]",
      "text/plain": [
       "<Figure size 432x288 with 1 Axes>"
      ]
     },
     "metadata": {
      "needs_background": "light"
     },
     "output_type": "display_data"
    }
   ],
   "source": [
    "# check with histogram \n",
    "sns.histplot(data=df, x='payment_type', kde=True)"
   ]
  },
  {
   "cell_type": "markdown",
   "metadata": {},
   "source": [
    "**Trip_type**"
   ]
  },
  {
   "cell_type": "code",
   "execution_count": 13,
   "metadata": {},
   "outputs": [
    {
     "data": {
      "text/plain": [
       "40.61955951161304"
      ]
     },
     "execution_count": 13,
     "metadata": {},
     "output_type": "execute_result"
    }
   ],
   "source": [
    "# Check with skew of trip_type\n",
    "df['trip_type'].skew()\n",
    "\n",
    "# Check with kurtosis\n",
    "df['trip_type'].kurtosis()"
   ]
  },
  {
   "cell_type": "code",
   "execution_count": 14,
   "metadata": {},
   "outputs": [
    {
     "data": {
      "text/plain": [
       "<Axes: xlabel='trip_type', ylabel='Count'>"
      ]
     },
     "execution_count": 14,
     "metadata": {},
     "output_type": "execute_result"
    },
    {
     "data": {
      "image/png": "[encoded data removed]",
      "text/plain": [
       "<Figure size 432x288 with 1 Axes>"
      ]
     },
     "metadata": {
      "needs_background": "light"
     },
     "output_type": "display_data"
    }
   ],
   "source": [
    "# Check with histogram \n",
    "sns.histplot(data=df, x='trip_type', kde=True)"
   ]
  },
  {
   "cell_type": "markdown",
   "metadata": {},
   "source": [
    "Kurtosis = 3 --> Normally distributed\n",
    "kurtosis < 3 --> Not normal and platykurtic; kurtosis > 3 --> Not normal and leptokurtic\n",
    "\n",
    "Skew = 0 --> Normally distributed\n",
    "skew > 0 --> Not normal and right-skewed; skew < 0 --> Not normal and left-skewed"
   ]
  },
  {
   "cell_type": "markdown",
   "metadata": {},
   "source": [
    "## **Handling Missing Values**"
   ]
  },
  {
   "cell_type": "code",
   "execution_count": 15,
   "metadata": {},
   "outputs": [],
   "source": [
    "#Histogram data RateCodeID --> It can be seen that it is not normally distributed, so using the median.\n",
    "df['RatecodeID'].fillna(df['RatecodeID'].median(), inplace=True)"
   ]
  },
  {
   "cell_type": "code",
   "execution_count": 16,
   "metadata": {},
   "outputs": [],
   "source": [
    "#Histogram data RateCodeID --> It can be seen that it is not normally distributed, so using the median.\n",
    "df['passenger_count'].fillna(df['passenger_count'].median(), inplace=True)"
   ]
  },
  {
   "cell_type": "code",
   "execution_count": 17,
   "metadata": {},
   "outputs": [],
   "source": [
    "#Histogram data RateCodeID --> It can be seen that it is not normally distributed, so using the median.\n",
    "df['payment_type'].fillna(df['payment_type'].median(), inplace=True)"
   ]
  },
  {
   "cell_type": "code",
   "execution_count": 18,
   "metadata": {},
   "outputs": [],
   "source": [
    "#Histogram data RateCodeID --> It can be seen that it is not normally distributed, so using the median.\n",
    "df['trip_type'].fillna(df['trip_type'].median(), inplace=True)"
   ]
  },
  {
   "cell_type": "markdown",
   "metadata": {},
   "source": [
    "## **convert datatypes**"
   ]
  },
  {
   "cell_type": "code",
   "execution_count": 19,
   "metadata": {},
   "outputs": [
    {
     "data": {
      "text/html": [
       "<div>\n",
       "<style scoped>\n",
       "    .dataframe tbody tr th:only-of-type {\n",
       "        vertical-align: middle;\n",
       "    }\n",
       "\n",
       "    .dataframe tbody tr th {\n",
       "        vertical-align: top;\n",
       "    }\n",
       "\n",
       "    .dataframe thead th {\n",
       "        text-align: right;\n",
       "    }\n",
       "</style>\n",
       "<table border=\"1\" class=\"dataframe\">\n",
       "  <thead>\n",
       "    <tr style=\"text-align: right;\">\n",
       "      <th></th>\n",
       "      <th>VendorID</th>\n",
       "      <th>lpep_pickup_datetime</th>\n",
       "      <th>lpep_dropoff_datetime</th>\n",
       "      <th>RatecodeID</th>\n",
       "      <th>passenger_count</th>\n",
       "      <th>trip_distance</th>\n",
       "      <th>fare_amount</th>\n",
       "      <th>extra</th>\n",
       "      <th>mta_tax</th>\n",
       "      <th>tip_amount</th>\n",
       "      <th>tolls_amount</th>\n",
       "      <th>total_amount</th>\n",
       "      <th>payment_type</th>\n",
       "      <th>trip_type</th>\n",
       "    </tr>\n",
       "  </thead>\n",
       "  <tbody>\n",
       "    <tr>\n",
       "      <th>0</th>\n",
       "      <td>2</td>\n",
       "      <td>2023-01-01 00:26:10</td>\n",
       "      <td>2023-01-01 00:37:11</td>\n",
       "      <td>1</td>\n",
       "      <td>1</td>\n",
       "      <td>2</td>\n",
       "      <td>14</td>\n",
       "      <td>1</td>\n",
       "      <td>0</td>\n",
       "      <td>4</td>\n",
       "      <td>0</td>\n",
       "      <td>24</td>\n",
       "      <td>1</td>\n",
       "      <td>1</td>\n",
       "    </tr>\n",
       "    <tr>\n",
       "      <th>1</th>\n",
       "      <td>2</td>\n",
       "      <td>2023-01-01 00:51:03</td>\n",
       "      <td>2023-01-01 00:57:49</td>\n",
       "      <td>1</td>\n",
       "      <td>1</td>\n",
       "      <td>1</td>\n",
       "      <td>10</td>\n",
       "      <td>1</td>\n",
       "      <td>0</td>\n",
       "      <td>2</td>\n",
       "      <td>0</td>\n",
       "      <td>15</td>\n",
       "      <td>1</td>\n",
       "      <td>1</td>\n",
       "    </tr>\n",
       "    <tr>\n",
       "      <th>2</th>\n",
       "      <td>2</td>\n",
       "      <td>2023-01-01 00:35:12</td>\n",
       "      <td>2023-01-01 00:41:32</td>\n",
       "      <td>1</td>\n",
       "      <td>1</td>\n",
       "      <td>0</td>\n",
       "      <td>7</td>\n",
       "      <td>1</td>\n",
       "      <td>0</td>\n",
       "      <td>1</td>\n",
       "      <td>0</td>\n",
       "      <td>11</td>\n",
       "      <td>1</td>\n",
       "      <td>1</td>\n",
       "    </tr>\n",
       "    <tr>\n",
       "      <th>3</th>\n",
       "      <td>1</td>\n",
       "      <td>2023-01-01 00:13:14</td>\n",
       "      <td>2023-01-01 00:19:03</td>\n",
       "      <td>1</td>\n",
       "      <td>1</td>\n",
       "      <td>1</td>\n",
       "      <td>6</td>\n",
       "      <td>0</td>\n",
       "      <td>1</td>\n",
       "      <td>1</td>\n",
       "      <td>0</td>\n",
       "      <td>10</td>\n",
       "      <td>1</td>\n",
       "      <td>1</td>\n",
       "    </tr>\n",
       "    <tr>\n",
       "      <th>4</th>\n",
       "      <td>1</td>\n",
       "      <td>2023-01-01 00:33:04</td>\n",
       "      <td>2023-01-01 00:39:02</td>\n",
       "      <td>1</td>\n",
       "      <td>1</td>\n",
       "      <td>1</td>\n",
       "      <td>6</td>\n",
       "      <td>0</td>\n",
       "      <td>1</td>\n",
       "      <td>0</td>\n",
       "      <td>0</td>\n",
       "      <td>8</td>\n",
       "      <td>1</td>\n",
       "      <td>1</td>\n",
       "    </tr>\n",
       "    <tr>\n",
       "      <th>...</th>\n",
       "      <td>...</td>\n",
       "      <td>...</td>\n",
       "      <td>...</td>\n",
       "      <td>...</td>\n",
       "      <td>...</td>\n",
       "      <td>...</td>\n",
       "      <td>...</td>\n",
       "      <td>...</td>\n",
       "      <td>...</td>\n",
       "      <td>...</td>\n",
       "      <td>...</td>\n",
       "      <td>...</td>\n",
       "      <td>...</td>\n",
       "      <td>...</td>\n",
       "    </tr>\n",
       "    <tr>\n",
       "      <th>68206</th>\n",
       "      <td>2</td>\n",
       "      <td>2023-01-31 22:29:00</td>\n",
       "      <td>2023-01-31 22:42:00</td>\n",
       "      <td>1</td>\n",
       "      <td>1</td>\n",
       "      <td>4070</td>\n",
       "      <td>15</td>\n",
       "      <td>0</td>\n",
       "      <td>0</td>\n",
       "      <td>0</td>\n",
       "      <td>0</td>\n",
       "      <td>16</td>\n",
       "      <td>1</td>\n",
       "      <td>1</td>\n",
       "    </tr>\n",
       "    <tr>\n",
       "      <th>68207</th>\n",
       "      <td>2</td>\n",
       "      <td>2023-01-31 22:40:00</td>\n",
       "      <td>2023-01-31 22:48:00</td>\n",
       "      <td>1</td>\n",
       "      <td>1</td>\n",
       "      <td>2</td>\n",
       "      <td>4</td>\n",
       "      <td>0</td>\n",
       "      <td>0</td>\n",
       "      <td>0</td>\n",
       "      <td>0</td>\n",
       "      <td>5</td>\n",
       "      <td>1</td>\n",
       "      <td>1</td>\n",
       "    </tr>\n",
       "    <tr>\n",
       "      <th>68208</th>\n",
       "      <td>2</td>\n",
       "      <td>2023-01-31 23:46:00</td>\n",
       "      <td>2023-02-01 00:02:00</td>\n",
       "      <td>1</td>\n",
       "      <td>1</td>\n",
       "      <td>3</td>\n",
       "      <td>16</td>\n",
       "      <td>0</td>\n",
       "      <td>0</td>\n",
       "      <td>3</td>\n",
       "      <td>0</td>\n",
       "      <td>21</td>\n",
       "      <td>1</td>\n",
       "      <td>1</td>\n",
       "    </tr>\n",
       "    <tr>\n",
       "      <th>68209</th>\n",
       "      <td>2</td>\n",
       "      <td>2023-01-31 23:01:00</td>\n",
       "      <td>2023-01-31 23:19:00</td>\n",
       "      <td>1</td>\n",
       "      <td>1</td>\n",
       "      <td>3</td>\n",
       "      <td>14</td>\n",
       "      <td>0</td>\n",
       "      <td>0</td>\n",
       "      <td>3</td>\n",
       "      <td>0</td>\n",
       "      <td>19</td>\n",
       "      <td>1</td>\n",
       "      <td>1</td>\n",
       "    </tr>\n",
       "    <tr>\n",
       "      <th>68210</th>\n",
       "      <td>2</td>\n",
       "      <td>2023-01-31 23:51:00</td>\n",
       "      <td>2023-02-01 00:07:00</td>\n",
       "      <td>1</td>\n",
       "      <td>1</td>\n",
       "      <td>5</td>\n",
       "      <td>23</td>\n",
       "      <td>0</td>\n",
       "      <td>0</td>\n",
       "      <td>2</td>\n",
       "      <td>0</td>\n",
       "      <td>29</td>\n",
       "      <td>1</td>\n",
       "      <td>1</td>\n",
       "    </tr>\n",
       "  </tbody>\n",
       "</table>\n",
       "<p>68211 rows × 14 columns</p>\n",
       "</div>"
      ],
      "text/plain": [
       "       VendorID lpep_pickup_datetime lpep_dropoff_datetime  RatecodeID  \\\n",
       "0             2  2023-01-01 00:26:10   2023-01-01 00:37:11           1   \n",
       "1             2  2023-01-01 00:51:03   2023-01-01 00:57:49           1   \n",
       "2             2  2023-01-01 00:35:12   2023-01-01 00:41:32           1   \n",
       "3             1  2023-01-01 00:13:14   2023-01-01 00:19:03           1   \n",
       "4             1  2023-01-01 00:33:04   2023-01-01 00:39:02           1   \n",
       "...         ...                  ...                   ...         ...   \n",
       "68206         2  2023-01-31 22:29:00   2023-01-31 22:42:00           1   \n",
       "68207         2  2023-01-31 22:40:00   2023-01-31 22:48:00           1   \n",
       "68208         2  2023-01-31 23:46:00   2023-02-01 00:02:00           1   \n",
       "68209         2  2023-01-31 23:01:00   2023-01-31 23:19:00           1   \n",
       "68210         2  2023-01-31 23:51:00   2023-02-01 00:07:00           1   \n",
       "\n",
       "       passenger_count  trip_distance  fare_amount  extra  mta_tax  \\\n",
       "0                    1              2           14      1        0   \n",
       "1                    1              1           10      1        0   \n",
       "2                    1              0            7      1        0   \n",
       "3                    1              1            6      0        1   \n",
       "4                    1              1            6      0        1   \n",
       "...                ...            ...          ...    ...      ...   \n",
       "68206                1           4070           15      0        0   \n",
       "68207                1              2            4      0        0   \n",
       "68208                1              3           16      0        0   \n",
       "68209                1              3           14      0        0   \n",
       "68210                1              5           23      0        0   \n",
       "\n",
       "       tip_amount  tolls_amount  total_amount  payment_type  trip_type  \n",
       "0               4             0            24             1          1  \n",
       "1               2             0            15             1          1  \n",
       "2               1             0            11             1          1  \n",
       "3               1             0            10             1          1  \n",
       "4               0             0             8             1          1  \n",
       "...           ...           ...           ...           ...        ...  \n",
       "68206           0             0            16             1          1  \n",
       "68207           0             0             5             1          1  \n",
       "68208           3             0            21             1          1  \n",
       "68209           3             0            19             1          1  \n",
       "68210           2             0            29             1          1  \n",
       "\n",
       "[68211 rows x 14 columns]"
      ]
     },
     "execution_count": 19,
     "metadata": {},
     "output_type": "execute_result"
    }
   ],
   "source": [
    "# Convert 'lpep_pickup_datetime' and 'lpep_dropoff_datetime' columns to datetime type\n",
    "df['lpep_pickup_datetime'] = pd.to_datetime(df['lpep_pickup_datetime'])\n",
    "df['lpep_dropoff_datetime'] = pd.to_datetime(df['lpep_dropoff_datetime'])\n",
    "\n",
    "# Convert 'payment_type' column to integer (assuming it contains only integer values)\n",
    "df['RatecodeID'] = df['RatecodeID'].astype(int)\n",
    "df['passenger_count'] = df['passenger_count'].astype(int)\n",
    "df['trip_distance'] = df['trip_distance'].astype(int)\n",
    "df['fare_amount'] = df['fare_amount'].astype(int)\n",
    "df['mta_tax'] = df['mta_tax'].astype(int)\n",
    "df['extra'] = df['extra'].astype(int)\n",
    "df['tip_amount'] = df['tip_amount'].astype(int)\n",
    "df['tolls_amount'] = df['tolls_amount'].astype(int)\n",
    "df['total_amount'] = df['total_amount'].astype(int)\n",
    "df['payment_type'] = df['payment_type'].astype(int)\n",
    "df['trip_type'] = df['trip_type'].astype(int)\n",
    "\n",
    "# Display DataFrame\n",
    "df"
   ]
  },
  {
   "cell_type": "code",
   "execution_count": 20,
   "metadata": {},
   "outputs": [
    {
     "data": {
      "text/html": [
       "<div>\n",
       "<style scoped>\n",
       "    .dataframe tbody tr th:only-of-type {\n",
       "        vertical-align: middle;\n",
       "    }\n",
       "\n",
       "    .dataframe tbody tr th {\n",
       "        vertical-align: top;\n",
       "    }\n",
       "\n",
       "    .dataframe thead th {\n",
       "        text-align: right;\n",
       "    }\n",
       "</style>\n",
       "<table border=\"1\" class=\"dataframe\">\n",
       "  <thead>\n",
       "    <tr style=\"text-align: right;\">\n",
       "      <th></th>\n",
       "      <th>VendorID</th>\n",
       "      <th>RatecodeID</th>\n",
       "      <th>passenger_count</th>\n",
       "      <th>trip_distance</th>\n",
       "      <th>fare_amount</th>\n",
       "      <th>extra</th>\n",
       "      <th>mta_tax</th>\n",
       "      <th>tip_amount</th>\n",
       "      <th>tolls_amount</th>\n",
       "      <th>total_amount</th>\n",
       "      <th>payment_type</th>\n",
       "      <th>trip_type</th>\n",
       "      <th>pickup_date</th>\n",
       "      <th>pickup_time</th>\n",
       "      <th>dropoff_date</th>\n",
       "      <th>dropoff_time</th>\n",
       "    </tr>\n",
       "  </thead>\n",
       "  <tbody>\n",
       "    <tr>\n",
       "      <th>0</th>\n",
       "      <td>2</td>\n",
       "      <td>1</td>\n",
       "      <td>1</td>\n",
       "      <td>2</td>\n",
       "      <td>14</td>\n",
       "      <td>1</td>\n",
       "      <td>0</td>\n",
       "      <td>4</td>\n",
       "      <td>0</td>\n",
       "      <td>24</td>\n",
       "      <td>1</td>\n",
       "      <td>1</td>\n",
       "      <td>2023-01-01</td>\n",
       "      <td>00:26:10</td>\n",
       "      <td>2023-01-01</td>\n",
       "      <td>00:37:11</td>\n",
       "    </tr>\n",
       "    <tr>\n",
       "      <th>1</th>\n",
       "      <td>2</td>\n",
       "      <td>1</td>\n",
       "      <td>1</td>\n",
       "      <td>1</td>\n",
       "      <td>10</td>\n",
       "      <td>1</td>\n",
       "      <td>0</td>\n",
       "      <td>2</td>\n",
       "      <td>0</td>\n",
       "      <td>15</td>\n",
       "      <td>1</td>\n",
       "      <td>1</td>\n",
       "      <td>2023-01-01</td>\n",
       "      <td>00:51:03</td>\n",
       "      <td>2023-01-01</td>\n",
       "      <td>00:57:49</td>\n",
       "    </tr>\n",
       "    <tr>\n",
       "      <th>2</th>\n",
       "      <td>2</td>\n",
       "      <td>1</td>\n",
       "      <td>1</td>\n",
       "      <td>0</td>\n",
       "      <td>7</td>\n",
       "      <td>1</td>\n",
       "      <td>0</td>\n",
       "      <td>1</td>\n",
       "      <td>0</td>\n",
       "      <td>11</td>\n",
       "      <td>1</td>\n",
       "      <td>1</td>\n",
       "      <td>2023-01-01</td>\n",
       "      <td>00:35:12</td>\n",
       "      <td>2023-01-01</td>\n",
       "      <td>00:41:32</td>\n",
       "    </tr>\n",
       "    <tr>\n",
       "      <th>3</th>\n",
       "      <td>1</td>\n",
       "      <td>1</td>\n",
       "      <td>1</td>\n",
       "      <td>1</td>\n",
       "      <td>6</td>\n",
       "      <td>0</td>\n",
       "      <td>1</td>\n",
       "      <td>1</td>\n",
       "      <td>0</td>\n",
       "      <td>10</td>\n",
       "      <td>1</td>\n",
       "      <td>1</td>\n",
       "      <td>2023-01-01</td>\n",
       "      <td>00:13:14</td>\n",
       "      <td>2023-01-01</td>\n",
       "      <td>00:19:03</td>\n",
       "    </tr>\n",
       "    <tr>\n",
       "      <th>4</th>\n",
       "      <td>1</td>\n",
       "      <td>1</td>\n",
       "      <td>1</td>\n",
       "      <td>1</td>\n",
       "      <td>6</td>\n",
       "      <td>0</td>\n",
       "      <td>1</td>\n",
       "      <td>0</td>\n",
       "      <td>0</td>\n",
       "      <td>8</td>\n",
       "      <td>1</td>\n",
       "      <td>1</td>\n",
       "      <td>2023-01-01</td>\n",
       "      <td>00:33:04</td>\n",
       "      <td>2023-01-01</td>\n",
       "      <td>00:39:02</td>\n",
       "    </tr>\n",
       "  </tbody>\n",
       "</table>\n",
       "</div>"
      ],
      "text/plain": [
       "   VendorID  RatecodeID  passenger_count  trip_distance  fare_amount  extra  \\\n",
       "0         2           1                1              2           14      1   \n",
       "1         2           1                1              1           10      1   \n",
       "2         2           1                1              0            7      1   \n",
       "3         1           1                1              1            6      0   \n",
       "4         1           1                1              1            6      0   \n",
       "\n",
       "   mta_tax  tip_amount  tolls_amount  total_amount  payment_type  trip_type  \\\n",
       "0        0           4             0            24             1          1   \n",
       "1        0           2             0            15             1          1   \n",
       "2        0           1             0            11             1          1   \n",
       "3        1           1             0            10             1          1   \n",
       "4        1           0             0             8             1          1   \n",
       "\n",
       "  pickup_date pickup_time dropoff_date dropoff_time  \n",
       "0  2023-01-01    00:26:10   2023-01-01     00:37:11  \n",
       "1  2023-01-01    00:51:03   2023-01-01     00:57:49  \n",
       "2  2023-01-01    00:35:12   2023-01-01     00:41:32  \n",
       "3  2023-01-01    00:13:14   2023-01-01     00:19:03  \n",
       "4  2023-01-01    00:33:04   2023-01-01     00:39:02  "
      ]
     },
     "execution_count": 20,
     "metadata": {},
     "output_type": "execute_result"
    }
   ],
   "source": [
    "# Create new columns for date and time\n",
    "df['pickup_date'] = df['lpep_pickup_datetime'].dt.date\n",
    "df['pickup_time'] = df['lpep_pickup_datetime'].dt.time\n",
    "\n",
    "df['dropoff_date'] = df['lpep_dropoff_datetime'].dt.date\n",
    "df['dropoff_time'] = df['lpep_dropoff_datetime'].dt.time\n",
    "\n",
    "df = df.drop(['lpep_pickup_datetime', 'lpep_dropoff_datetime'], axis=1)\n",
    "\n",
    "# Display the updated DataFrame\n",
    "df.head()"
   ]
  },
  {
   "cell_type": "code",
   "execution_count": 21,
   "metadata": {},
   "outputs": [
    {
     "name": "stdout",
     "output_type": "stream",
     "text": [
      "<class 'pandas.core.frame.DataFrame'>\n",
      "RangeIndex: 68211 entries, 0 to 68210\n",
      "Data columns (total 16 columns):\n",
      " #   Column           Non-Null Count  Dtype \n",
      "---  ------           --------------  ----- \n",
      " 0   VendorID         68211 non-null  int64 \n",
      " 1   RatecodeID       68211 non-null  int64 \n",
      " 2   passenger_count  68211 non-null  int64 \n",
      " 3   trip_distance    68211 non-null  int64 \n",
      " 4   fare_amount      68211 non-null  int64 \n",
      " 5   extra            68211 non-null  int64 \n",
      " 6   mta_tax          68211 non-null  int64 \n",
      " 7   tip_amount       68211 non-null  int64 \n",
      " 8   tolls_amount     68211 non-null  int64 \n",
      " 9   total_amount     68211 non-null  int64 \n",
      " 10  payment_type     68211 non-null  int64 \n",
      " 11  trip_type        68211 non-null  int64 \n",
      " 12  pickup_date      68211 non-null  object\n",
      " 13  pickup_time      68211 non-null  object\n",
      " 14  dropoff_date     68211 non-null  object\n",
      " 15  dropoff_time     68211 non-null  object\n",
      "dtypes: int64(12), object(4)\n",
      "memory usage: 8.3+ MB\n"
     ]
    }
   ],
   "source": [
    "# Print information about Dataframe\n",
    "df.info()"
   ]
  },
  {
   "cell_type": "markdown",
   "metadata": {},
   "source": [
    "## **Outliers Detection**"
   ]
  },
  {
   "cell_type": "markdown",
   "metadata": {},
   "source": [
    "In the context of our **NYC TLC Trip** analysis, the identification of outliers using the Interquartile Range (IQR) method is crucial for understanding the distribution of key variables such as trip distance, passenger count, and payment types. The IQR method allows us to identify data points that deviate significantly from the central tendency and assess their potential impact on our analysis.\n",
    "\n",
    "However, rather than immediately deleting these outliers, we opt to retain them for the following reasons:\n",
    "\n",
    "Comprehensive Understanding: Outliers in our dataset may represent unique instances, special events, or anomalies that contribute to a more comprehensive understanding of the taxi trip data. These observations might hold valuable insights into specific scenarios or patterns that are important for our analysis.\n",
    "\n",
    "Impact on Insights: Deleting outliers can distort the statistical measures and summary statistics, leading to an inaccurate representation of the data distribution. By retaining outliers, we acknowledge their presence and potential impact on our findings, ensuring that our insights are robust and reflective of the true nature of the data.\n",
    "\n",
    "Data Integrity and Reproducibility: Transparency and reproducibility are essential in research and analysis. By not deleting outliers, we maintain the integrity of our dataset and allow for transparency in our methodology. Others can replicate our analysis and verify the robustness of our results.\n",
    "\n",
    "This approach ensures that our analysis remains thorough, unbiased, and capable of capturing the complexity inherent in the **NYC TLC trip** data."
   ]
  },
  {
   "cell_type": "code",
   "execution_count": 22,
   "metadata": {},
   "outputs": [
    {
     "name": "stdout",
     "output_type": "stream",
     "text": [
      "<class 'pandas.core.frame.DataFrame'>\n",
      "RangeIndex: 68211 entries, 0 to 68210\n",
      "Data columns (total 16 columns):\n",
      " #   Column           Non-Null Count  Dtype \n",
      "---  ------           --------------  ----- \n",
      " 0   VendorID         68211 non-null  int64 \n",
      " 1   RatecodeID       68211 non-null  int64 \n",
      " 2   passenger_count  68211 non-null  int64 \n",
      " 3   trip_distance    68211 non-null  int64 \n",
      " 4   fare_amount      68211 non-null  int64 \n",
      " 5   extra            68211 non-null  int64 \n",
      " 6   mta_tax          68211 non-null  int64 \n",
      " 7   tip_amount       68211 non-null  int64 \n",
      " 8   tolls_amount     68211 non-null  int64 \n",
      " 9   total_amount     68211 non-null  int64 \n",
      " 10  payment_type     68211 non-null  int64 \n",
      " 11  trip_type        68211 non-null  int64 \n",
      " 12  pickup_date      68211 non-null  object\n",
      " 13  pickup_time      68211 non-null  object\n",
      " 14  dropoff_date     68211 non-null  object\n",
      " 15  dropoff_time     68211 non-null  object\n",
      "dtypes: int64(12), object(4)\n",
      "memory usage: 8.3+ MB\n"
     ]
    }
   ],
   "source": [
    "# Display the information of DataFrame\n",
    "df.info()"
   ]
  },
  {
   "cell_type": "code",
   "execution_count": 23,
   "metadata": {},
   "outputs": [],
   "source": [
    "# Create numeric columns to select data types only with integers\n",
    "numeric_columns = df.select_dtypes(include=['int64']).columns"
   ]
  },
  {
   "cell_type": "code",
   "execution_count": 24,
   "metadata": {},
   "outputs": [
    {
     "name": "stdout",
     "output_type": "stream",
     "text": [
      "Number of outliers for VendorID: 9343\n",
      "Percentage of lower bound outliers: 13.70%\n",
      "Percentage of upper bound outliers: 0.00%\n"
     ]
    },
    {
     "name": "stdout",
     "output_type": "stream",
     "text": [
      "Number of outliers for RatecodeID: 1784\n",
      "Percentage of lower bound outliers: 0.00%\n",
      "Percentage of upper bound outliers: 2.62%\n",
      "Number of outliers for passenger_count: 9588\n",
      "Percentage of lower bound outliers: 0.49%\n",
      "Percentage of upper bound outliers: 13.56%\n",
      "Number of outliers for trip_distance: 4502\n",
      "Percentage of lower bound outliers: 0.00%\n",
      "Percentage of upper bound outliers: 6.60%\n",
      "Number of outliers for fare_amount: 4643\n",
      "Percentage of lower bound outliers: 0.05%\n",
      "Percentage of upper bound outliers: 6.76%\n",
      "Number of outliers for extra: 2012\n",
      "Percentage of lower bound outliers: 0.07%\n",
      "Percentage of upper bound outliers: 2.88%\n",
      "Number of outliers for mta_tax: 9091\n",
      "Percentage of lower bound outliers: 0.00%\n",
      "Percentage of upper bound outliers: 13.33%\n",
      "Number of outliers for tip_amount: 2385\n",
      "Percentage of lower bound outliers: 0.00%\n",
      "Percentage of upper bound outliers: 3.50%\n",
      "Number of outliers for tolls_amount: 1741\n",
      "Percentage of lower bound outliers: 0.00%\n",
      "Percentage of upper bound outliers: 2.55%\n",
      "Number of outliers for total_amount: 3517\n",
      "Percentage of lower bound outliers: 0.05%\n",
      "Percentage of upper bound outliers: 5.10%\n",
      "Number of outliers for payment_type: 97\n",
      "Percentage of lower bound outliers: 0.00%\n",
      "Percentage of upper bound outliers: 0.14%\n",
      "Number of outliers for trip_type: 1401\n",
      "Percentage of lower bound outliers: 0.00%\n",
      "Percentage of upper bound outliers: 2.05%\n"
     ]
    },
    {
     "data": {
      "image/png": "[encoded data removed]",
      "text/plain": [
       "<Figure size 1080x576 with 12 Axes>"
      ]
     },
     "metadata": {
      "needs_background": "light"
     },
     "output_type": "display_data"
    }
   ],
   "source": [
    "# Create box plots for each numerical column to identify outliers\n",
    "plt.figure(figsize=(15, 8))\n",
    "for i, column in enumerate(numeric_columns, 1):\n",
    "    plt.subplot(3, 4, i)\n",
    "    sns.boxplot(x=df[column])\n",
    "    plt.title(f'Boxplot for {column}')\n",
    "\n",
    "    # Calculate the IQR for the column\n",
    "    Q1 = df[column].quantile(0.25)\n",
    "    Q3 = df[column].quantile(0.75)\n",
    "    IQR = Q3 - Q1\n",
    "\n",
    "    # Identify outliers based on IQR\n",
    "    lower_bound = Q1 - 1.5 * IQR\n",
    "    upper_bound = Q3 + 1.5 * IQR\n",
    "    outliers = (df[column] < lower_bound) | (df[column] > upper_bound)\n",
    "\n",
    "    # Calculate the percentage of upper and lower bound outliers\n",
    "    total_data_points = len(df[column])\n",
    "    percentage_lower_bound_outliers = (outliers & (df[column] < lower_bound)).sum() / total_data_points * 100\n",
    "    percentage_upper_bound_outliers = (outliers & (df[column] > upper_bound)).sum() / total_data_points * 100\n",
    "\n",
    "    # Display the count and percentage of outliers for the column\n",
    "    print(f\"Number of outliers for {column}: {outliers.sum()}\")\n",
    "    print(f\"Percentage of lower bound outliers: {percentage_lower_bound_outliers:.2f}%\")\n",
    "    print(f\"Percentage of upper bound outliers: {percentage_upper_bound_outliers:.2f}%\")\n",
    "\n",
    "# Show the plot bar\n",
    "plt.tight_layout()\n",
    "plt.show()"
   ]
  },
  {
   "cell_type": "markdown",
   "metadata": {},
   "source": [
    "## **Export Clean Datatype into CSV**"
   ]
  },
  {
   "cell_type": "code",
   "execution_count": 25,
   "metadata": {},
   "outputs": [],
   "source": [
    "# Export Data that is already cleaned to be analysed in further visualization\n",
    "df.to_csv('NYC_TLC_Trip_Record_Cleaned.csv', index=False)"
   ]
  },
  {
   "cell_type": "markdown",
   "metadata": {},
   "source": [
    "## **Data Correlation**"
   ]
  },
  {
   "cell_type": "code",
   "execution_count": 26,
   "metadata": {},
   "outputs": [
    {
     "data": {
      "text/html": [
       "<div>\n",
       "<style scoped>\n",
       "    .dataframe tbody tr th:only-of-type {\n",
       "        vertical-align: middle;\n",
       "    }\n",
       "\n",
       "    .dataframe tbody tr th {\n",
       "        vertical-align: top;\n",
       "    }\n",
       "\n",
       "    .dataframe thead th {\n",
       "        text-align: right;\n",
       "    }\n",
       "</style>\n",
       "<table border=\"1\" class=\"dataframe\">\n",
       "  <thead>\n",
       "    <tr style=\"text-align: right;\">\n",
       "      <th></th>\n",
       "      <th>VendorID</th>\n",
       "      <th>RatecodeID</th>\n",
       "      <th>passenger_count</th>\n",
       "      <th>trip_distance</th>\n",
       "      <th>fare_amount</th>\n",
       "      <th>extra</th>\n",
       "      <th>mta_tax</th>\n",
       "      <th>tip_amount</th>\n",
       "      <th>tolls_amount</th>\n",
       "      <th>total_amount</th>\n",
       "      <th>payment_type</th>\n",
       "      <th>trip_type</th>\n",
       "    </tr>\n",
       "  </thead>\n",
       "  <tbody>\n",
       "    <tr>\n",
       "      <th>VendorID</th>\n",
       "      <td>1.000000</td>\n",
       "      <td>0.035102</td>\n",
       "      <td>0.057501</td>\n",
       "      <td>0.068300</td>\n",
       "      <td>0.011301</td>\n",
       "      <td>-0.083440</td>\n",
       "      <td>-0.984316</td>\n",
       "      <td>0.070448</td>\n",
       "      <td>-0.018774</td>\n",
       "      <td>0.018076</td>\n",
       "      <td>0.002298</td>\n",
       "      <td>0.039352</td>\n",
       "    </tr>\n",
       "    <tr>\n",
       "      <th>RatecodeID</th>\n",
       "      <td>0.035102</td>\n",
       "      <td>1.000000</td>\n",
       "      <td>0.024039</td>\n",
       "      <td>-0.038052</td>\n",
       "      <td>0.117438</td>\n",
       "      <td>-0.104526</td>\n",
       "      <td>-0.049723</td>\n",
       "      <td>-0.021515</td>\n",
       "      <td>0.079945</td>\n",
       "      <td>0.081515</td>\n",
       "      <td>-0.017978</td>\n",
       "      <td>0.882794</td>\n",
       "    </tr>\n",
       "    <tr>\n",
       "      <th>passenger_count</th>\n",
       "      <td>0.057501</td>\n",
       "      <td>0.024039</td>\n",
       "      <td>1.000000</td>\n",
       "      <td>0.013424</td>\n",
       "      <td>0.005521</td>\n",
       "      <td>0.036516</td>\n",
       "      <td>-0.055543</td>\n",
       "      <td>0.009255</td>\n",
       "      <td>-0.009877</td>\n",
       "      <td>0.013072</td>\n",
       "      <td>0.019556</td>\n",
       "      <td>0.019018</td>\n",
       "    </tr>\n",
       "    <tr>\n",
       "      <th>trip_distance</th>\n",
       "      <td>0.068300</td>\n",
       "      <td>-0.038052</td>\n",
       "      <td>0.013424</td>\n",
       "      <td>1.000000</td>\n",
       "      <td>0.813066</td>\n",
       "      <td>0.061296</td>\n",
       "      <td>-0.065948</td>\n",
       "      <td>0.314858</td>\n",
       "      <td>0.192570</td>\n",
       "      <td>0.796382</td>\n",
       "      <td>-0.088496</td>\n",
       "      <td>-0.068703</td>\n",
       "    </tr>\n",
       "    <tr>\n",
       "      <th>fare_amount</th>\n",
       "      <td>0.011301</td>\n",
       "      <td>0.117438</td>\n",
       "      <td>0.005521</td>\n",
       "      <td>0.813066</td>\n",
       "      <td>1.000000</td>\n",
       "      <td>-0.025292</td>\n",
       "      <td>-0.013120</td>\n",
       "      <td>0.278010</td>\n",
       "      <td>0.232995</td>\n",
       "      <td>0.946479</td>\n",
       "      <td>-0.136009</td>\n",
       "      <td>0.085869</td>\n",
       "    </tr>\n",
       "    <tr>\n",
       "      <th>extra</th>\n",
       "      <td>-0.083440</td>\n",
       "      <td>-0.104526</td>\n",
       "      <td>0.036516</td>\n",
       "      <td>0.061296</td>\n",
       "      <td>-0.025292</td>\n",
       "      <td>1.000000</td>\n",
       "      <td>0.088545</td>\n",
       "      <td>0.099024</td>\n",
       "      <td>0.013006</td>\n",
       "      <td>0.122738</td>\n",
       "      <td>-0.027336</td>\n",
       "      <td>-0.102124</td>\n",
       "    </tr>\n",
       "    <tr>\n",
       "      <th>mta_tax</th>\n",
       "      <td>-0.984316</td>\n",
       "      <td>-0.049723</td>\n",
       "      <td>-0.055543</td>\n",
       "      <td>-0.065948</td>\n",
       "      <td>-0.013120</td>\n",
       "      <td>0.088545</td>\n",
       "      <td>1.000000</td>\n",
       "      <td>-0.069384</td>\n",
       "      <td>0.019108</td>\n",
       "      <td>-0.019523</td>\n",
       "      <td>-0.000348</td>\n",
       "      <td>-0.055569</td>\n",
       "    </tr>\n",
       "    <tr>\n",
       "      <th>tip_amount</th>\n",
       "      <td>0.070448</td>\n",
       "      <td>-0.021515</td>\n",
       "      <td>0.009255</td>\n",
       "      <td>0.314858</td>\n",
       "      <td>0.278010</td>\n",
       "      <td>0.099024</td>\n",
       "      <td>-0.069384</td>\n",
       "      <td>1.000000</td>\n",
       "      <td>0.090601</td>\n",
       "      <td>0.468839</td>\n",
       "      <td>-0.726291</td>\n",
       "      <td>-0.024635</td>\n",
       "    </tr>\n",
       "    <tr>\n",
       "      <th>tolls_amount</th>\n",
       "      <td>-0.018774</td>\n",
       "      <td>0.079945</td>\n",
       "      <td>-0.009877</td>\n",
       "      <td>0.192570</td>\n",
       "      <td>0.232995</td>\n",
       "      <td>0.013006</td>\n",
       "      <td>0.019108</td>\n",
       "      <td>0.090601</td>\n",
       "      <td>1.000000</td>\n",
       "      <td>0.248155</td>\n",
       "      <td>-0.053757</td>\n",
       "      <td>0.001574</td>\n",
       "    </tr>\n",
       "    <tr>\n",
       "      <th>total_amount</th>\n",
       "      <td>0.018076</td>\n",
       "      <td>0.081515</td>\n",
       "      <td>0.013072</td>\n",
       "      <td>0.796382</td>\n",
       "      <td>0.946479</td>\n",
       "      <td>0.122738</td>\n",
       "      <td>-0.019523</td>\n",
       "      <td>0.468839</td>\n",
       "      <td>0.248155</td>\n",
       "      <td>1.000000</td>\n",
       "      <td>-0.286851</td>\n",
       "      <td>0.049977</td>\n",
       "    </tr>\n",
       "    <tr>\n",
       "      <th>payment_type</th>\n",
       "      <td>0.002298</td>\n",
       "      <td>-0.017978</td>\n",
       "      <td>0.019556</td>\n",
       "      <td>-0.088496</td>\n",
       "      <td>-0.136009</td>\n",
       "      <td>-0.027336</td>\n",
       "      <td>-0.000348</td>\n",
       "      <td>-0.726291</td>\n",
       "      <td>-0.053757</td>\n",
       "      <td>-0.286851</td>\n",
       "      <td>1.000000</td>\n",
       "      <td>-0.030800</td>\n",
       "    </tr>\n",
       "    <tr>\n",
       "      <th>trip_type</th>\n",
       "      <td>0.039352</td>\n",
       "      <td>0.882794</td>\n",
       "      <td>0.019018</td>\n",
       "      <td>-0.068703</td>\n",
       "      <td>0.085869</td>\n",
       "      <td>-0.102124</td>\n",
       "      <td>-0.055569</td>\n",
       "      <td>-0.024635</td>\n",
       "      <td>0.001574</td>\n",
       "      <td>0.049977</td>\n",
       "      <td>-0.030800</td>\n",
       "      <td>1.000000</td>\n",
       "    </tr>\n",
       "  </tbody>\n",
       "</table>\n",
       "</div>"
      ],
      "text/plain": [
       "                 VendorID  RatecodeID  passenger_count  trip_distance  \\\n",
       "VendorID         1.000000    0.035102         0.057501       0.068300   \n",
       "RatecodeID       0.035102    1.000000         0.024039      -0.038052   \n",
       "passenger_count  0.057501    0.024039         1.000000       0.013424   \n",
       "trip_distance    0.068300   -0.038052         0.013424       1.000000   \n",
       "fare_amount      0.011301    0.117438         0.005521       0.813066   \n",
       "extra           -0.083440   -0.104526         0.036516       0.061296   \n",
       "mta_tax         -0.984316   -0.049723        -0.055543      -0.065948   \n",
       "tip_amount       0.070448   -0.021515         0.009255       0.314858   \n",
       "tolls_amount    -0.018774    0.079945        -0.009877       0.192570   \n",
       "total_amount     0.018076    0.081515         0.013072       0.796382   \n",
       "payment_type     0.002298   -0.017978         0.019556      -0.088496   \n",
       "trip_type        0.039352    0.882794         0.019018      -0.068703   \n",
       "\n",
       "                 fare_amount     extra   mta_tax  tip_amount  tolls_amount  \\\n",
       "VendorID            0.011301 -0.083440 -0.984316    0.070448     -0.018774   \n",
       "RatecodeID          0.117438 -0.104526 -0.049723   -0.021515      0.079945   \n",
       "passenger_count     0.005521  0.036516 -0.055543    0.009255     -0.009877   \n",
       "trip_distance       0.813066  0.061296 -0.065948    0.314858      0.192570   \n",
       "fare_amount         1.000000 -0.025292 -0.013120    0.278010      0.232995   \n",
       "extra              -0.025292  1.000000  0.088545    0.099024      0.013006   \n",
       "mta_tax            -0.013120  0.088545  1.000000   -0.069384      0.019108   \n",
       "tip_amount          0.278010  0.099024 -0.069384    1.000000      0.090601   \n",
       "tolls_amount        0.232995  0.013006  0.019108    0.090601      1.000000   \n",
       "total_amount        0.946479  0.122738 -0.019523    0.468839      0.248155   \n",
       "payment_type       -0.136009 -0.027336 -0.000348   -0.726291     -0.053757   \n",
       "trip_type           0.085869 -0.102124 -0.055569   -0.024635      0.001574   \n",
       "\n",
       "                 total_amount  payment_type  trip_type  \n",
       "VendorID             0.018076      0.002298   0.039352  \n",
       "RatecodeID           0.081515     -0.017978   0.882794  \n",
       "passenger_count      0.013072      0.019556   0.019018  \n",
       "trip_distance        0.796382     -0.088496  -0.068703  \n",
       "fare_amount          0.946479     -0.136009   0.085869  \n",
       "extra                0.122738     -0.027336  -0.102124  \n",
       "mta_tax             -0.019523     -0.000348  -0.055569  \n",
       "tip_amount           0.468839     -0.726291  -0.024635  \n",
       "tolls_amount         0.248155     -0.053757   0.001574  \n",
       "total_amount         1.000000     -0.286851   0.049977  \n",
       "payment_type        -0.286851      1.000000  -0.030800  \n",
       "trip_type            0.049977     -0.030800   1.000000  "
      ]
     },
     "execution_count": 26,
     "metadata": {},
     "output_type": "execute_result"
    }
   ],
   "source": [
    "# Using df.corr of Spearman method to find the correlation of data\n",
    "df.corr(method='spearman',numeric_only=True)"
   ]
  },
  {
   "cell_type": "markdown",
   "metadata": {},
   "source": [
    "## **Correlation Matrix**"
   ]
  },
  {
   "cell_type": "code",
   "execution_count": 27,
   "metadata": {},
   "outputs": [
    {
     "data": {
      "image/png": "[encoded data removed]",
      "text/plain": [
       "<Figure size 864x576 with 2 Axes>"
      ]
     },
     "metadata": {
      "needs_background": "light"
     },
     "output_type": "display_data"
    }
   ],
   "source": [
    "# Calculate the correlation matrix with numerical columns datatypes\n",
    "correlation_matrix = df[numeric_columns].corr()\n",
    "\n",
    "# Set up the matplotlib figure\n",
    "plt.figure(figsize=(12, 8))\n",
    "\n",
    "# Create a heatmap of the correlation matrix\n",
    "sns.heatmap(correlation_matrix, annot=True, cmap='coolwarm', fmt=\".2f\", linewidths=.5)\n",
    "\n",
    "# To give title of this heatmap to be Correlation Matrix\n",
    "plt.title('Correlation Matrix')\n",
    "\n",
    "# To display the heatmap of correlation matrix\n",
    "plt.show()"
   ]
  },
  {
   "cell_type": "markdown",
   "metadata": {},
   "source": [
    "## **Visualization & Analysis**"
   ]
  },
  {
   "cell_type": "markdown",
   "metadata": {},
   "source": [
    "## **Passenger Count Analysis**"
   ]
  },
  {
   "cell_type": "code",
   "execution_count": 32,
   "metadata": {},
   "outputs": [
    {
     "name": "stderr",
     "output_type": "stream",
     "text": [
      "<ipython-input-32-e2e17bd738d3>:9: FutureWarning: \n",
      "\n",
      "Passing `palette` without assigning `hue` is deprecated and will be removed in v0.14.0. Assign the `x` variable to `hue` and set `legend=False` for the same effect.\n",
      "\n",
      "  sns.barplot(x='pickup_month', y='passenger_count', data=cohort_passenger_counts, palette='viridis')\n"
     ]
    },
    {
     "data": {
      "image/png": "[encoded data removed]",
      "text/plain": [
       "<Figure size 864x576 with 1 Axes>"
      ]
     },
     "metadata": {
      "needs_background": "light"
     },
     "output_type": "display_data"
    }
   ],
   "source": [
    "# 'pickup_date' is a datetime column\n",
    "df['pickup_month'] = df['pickup_date']\n",
    "\n",
    "# Group by cohorts and calculate average passenger count\n",
    "cohort_passenger_counts = df.groupby('pickup_month')['passenger_count'].mean().reset_index()\n",
    "\n",
    "# Plotting Distribution of Passenger Counts Over Cohorts using a bar plot\n",
    "plt.figure(figsize=(12, 8))\n",
    "sns.barplot(x='pickup_month', y='passenger_count', data=cohort_passenger_counts, palette='viridis')\n",
    "plt.title('Average Passenger Count Over Months')\n",
    "plt.xlabel('Pickup Month')\n",
    "plt.ylabel('Average Passenger Count')\n",
    "plt.xticks(rotation=45)\n",
    "plt.grid(True)\n",
    "\n",
    "# Show visualization\n",
    "plt.tight_layout()\n",
    "plt.show()"
   ]
  },
  {
   "cell_type": "markdown",
   "metadata": {},
   "source": [
    "\n",
    "Passenger Count Analysis aims to understand how the distribution of passenger counts changes over different cohorts, where cohorts are defined based on pickup months. This analysis helps identify patterns or trends related to the number of passengers in taxi trips over time. \n",
    "\n",
    "The insight derived from the cohort analysis of passenger counts may include:\n",
    "\n",
    "Temporal Patterns: Observing whether there are specific months or periods where the distribution of passenger counts shows noticeable changes.\n",
    "\n",
    "Seasonal Trends: Identifying any recurring patterns or trends in passenger counts across different seasons or months.\n",
    "\n",
    "Shifts in Usage: Understanding if there are shifts in the preferred number of passengers per trip over time.\n",
    "\n",
    "Correlation with External Factors: Investigating whether there are correlations between passenger counts and external factors such as holidays, events, or changes in the city's activities.\n",
    "\n",
    "Operational Considerations: Providing insights that can be valuable for operational decisions, such as optimizing fleet size or understanding demand fluctuations.\n",
    "\n",
    "In summary, Passenger Count Analysis through cohort analysis helps reveal insights into the dynamics of passenger preferences and behaviors over time, facilitating data-driven decision-making in the context of taxi services."
   ]
  },
  {
   "cell_type": "markdown",
   "metadata": {},
   "source": [
    "## **Weekday vs. Weekend Analysis**"
   ]
  },
  {
   "cell_type": "code",
   "execution_count": 29,
   "metadata": {},
   "outputs": [
    {
     "data": {
      "image/png": "[encoded data removed]",
      "text/plain": [
       "<Figure size 864x576 with 1 Axes>"
      ]
     },
     "metadata": {
      "needs_background": "light"
     },
     "output_type": "display_data"
    }
   ],
   "source": [
    "# Convert 'pickup_date' column to datetime\n",
    "df['pickup_date'] = pd.to_datetime(df['pickup_date'])\n",
    "\n",
    "# Create new columns for day of the week (0 = Monday, 6 = Sunday)\n",
    "df['pickup_day_of_week'] = df['pickup_date'].dt.dayofweek\n",
    "\n",
    "# Map day of the week to a categorical column (Weekday or Weekend)\n",
    "df['day_type'] = df['pickup_day_of_week'].map({0: 'Weekday', 1: 'Weekday', 2: 'Weekday', 3: 'Weekday', 4: 'Weekday', 5: 'Weekend', 6: 'Weekend'})\n",
    "\n",
    "# Create cohorts based on pickup months\n",
    "df['pickup_month'] = df['pickup_date']\n",
    "\n",
    "# Group by cohorts and day type, and calculate trip counts\n",
    "cohort_day_type_counts = df.groupby(['pickup_month', 'day_type']).size().unstack().fillna(0)\n",
    "\n",
    "# Plotting Weekday vs. Weekend Analysis as a bar plot\n",
    "plt.figure(figsize=(12, 8))\n",
    "sns.barplot(data=cohort_day_type_counts.reset_index(), x='pickup_month', y='Weekday', color='purple', label='Weekday')\n",
    "sns.barplot(data=cohort_day_type_counts.reset_index(), x='pickup_month', y='Weekend', color='navy', label='Weekend')\n",
    "plt.title('Weekday vs. Weekend Analysis')\n",
    "plt.xlabel('Cohort (Pickup Month)')\n",
    "plt.ylabel('Trip Counts')\n",
    "plt.xticks(rotation=45)\n",
    "plt.legend(title='Day Type')\n",
    "\n",
    "# Show visualization\n",
    "plt.tight_layout()\n",
    "plt.show()"
   ]
  },
  {
   "cell_type": "markdown",
   "metadata": {},
   "source": [
    "Insight:\n",
    "The bar plot visualizes the distribution of trip counts, distinguishing between weekdays and weekends. The purple bars represent weekday trip counts, while the yellow bars represent weekend trip counts. \n",
    "\n",
    "Observations from the analysis include:\n",
    "\n",
    "Temporal Patterns: The analysis reveals temporal patterns in trip counts over the cohorts. Each cohort represents a specific pickup month, and the bar plot allows easy comparison between weekdays and weekends.\n",
    "\n",
    "Variation Across Cohorts: The varying heights of bars across cohorts indicate fluctuations in trip counts. Identifying cohorts with noticeable changes helps in understanding the temporal dynamics of taxi service demand.\n",
    "\n",
    "Weekday-Weekend Disparities: Comparing weekday and weekend bars provides insights into how weekdays and weekends contribute to overall trip counts. Significant disparities suggest that the service experiences differing demand patterns during weekdays and weekends.\n",
    "\n",
    "Cohort-Specific Insights: Each cohort may exhibit unique patterns based on external factors such as holidays, events, or seasonal variations. Analyzing specific cohorts with exceptional patterns can provide deeper insights into the factors influencing trip counts.\n",
    "\n",
    "Informing Operational Decisions: Understanding the temporal distribution of trip counts aids in making informed operational decisions, such as optimizing resource allocation, adjusting service levels, or planning promotional campaigns during peak demand periods.\n",
    "\n",
    "Overall, this visualization enhances the comprehension of how taxi service demand varies over time, particularly in the context of weekdays and weekends across different cohorts."
   ]
  },
  {
   "cell_type": "markdown",
   "metadata": {},
   "source": [
    "## **Payment Type Distribution Over Months**"
   ]
  },
  {
   "cell_type": "code",
   "execution_count": 31,
   "metadata": {},
   "outputs": [
    {
     "data": {
      "text/plain": [
       "<Figure size 864x576 with 0 Axes>"
      ]
     },
     "metadata": {},
     "output_type": "display_data"
    },
    {
     "data": {
      "image/png": "[encoded data removed]",
      "text/plain": [
       "<Figure size 432x288 with 1 Axes>"
      ]
     },
     "metadata": {
      "needs_background": "light"
     },
     "output_type": "display_data"
    }
   ],
   "source": [
    "# Assuming 'pickup_date' is a datetime column\n",
    "df['pickup_month'] = df['pickup_date'].dt.to_period('M')\n",
    "\n",
    "# Group by cohorts and payment type, and calculate counts\n",
    "cohort_payment_type_counts = df.groupby(['pickup_month', 'payment_type']).size().unstack().fillna(0)\n",
    "\n",
    "# Map payment type numeric codes to labels\n",
    "payment_type_labels = {\n",
    "    1: 'Credit card',\n",
    "    2: 'Cash',\n",
    "    3: 'No charge',\n",
    "    4: 'Dispute',\n",
    "    5: 'Unknown',\n",
    "    6: 'Voided trip'\n",
    "}\n",
    "\n",
    "cohort_payment_type_counts.columns = [payment_type_labels.get(col, col) for col in cohort_payment_type_counts.columns]\n",
    "\n",
    "# Plotting Payment Type Analysis using a stacked bar plot\n",
    "plt.figure(figsize=(12, 8))\n",
    "cohort_payment_type_counts.plot(kind='bar', stacked=True, colormap='viridis')\n",
    "plt.title('Payment Type Distribution Over Month')\n",
    "plt.xlabel('Cohort (Pickup Month)')\n",
    "plt.ylabel('Number of Trips')\n",
    "plt.xticks(rotation=45)\n",
    "plt.legend(title='Payment Type')\n",
    "plt.grid(True)\n",
    "\n",
    "# Show visualization\n",
    "plt.tight_layout()\n",
    "plt.show()"
   ]
  },
  {
   "cell_type": "markdown",
   "metadata": {},
   "source": [
    "The provided analysis offers valuable insights into how the distribution of payment types has evolved across different cohorts over time. Here's a breakdown of the key observations:\n",
    "\n",
    "Credit Card Dominance: Credit card payments consistently dominate across all cohorts. The stacked bar plot reveals that credit card usage is the most prevalent payment method.\n",
    "\n",
    "Stability in Cash Payments: While credit card usage is prominent, there's a stable presence of cash payments. This indicates that a significant portion of passengers still prefers traditional cash transactions.\n",
    "\n",
    "Negligible Instances of Disputes and Voided Trips: The columns representing 'Dispute' and 'Voided trip' are relatively small, suggesting that these situations are infrequent. This is a positive sign for the reliability and accuracy of transactions.\n",
    "\n",
    "No Charge and Unknown Categories: 'No charge' and 'Unknown' categories show minimal changes across cohorts, suggesting that instances falling into these categories remain relatively constant over time.\n",
    "\n",
    "Cohort-Specific Patterns: While credit card and cash payments exhibit consistent patterns, there might be cohort-specific variations in the 'No charge,' 'Dispute,' and 'Unknown' categories. Further investigation into these cohorts could uncover specific trends or anomalies.\n",
    "\n",
    "Seasonal Trends: The analysis, conducted on a monthly basis, enables the identification of potential seasonal trends or shifts in payment preferences. Understanding these variations can be crucial for adapting business strategies.\n",
    "\n",
    "Overall, this analysis provides a comprehensive view of how different payment types contribute to the overall transaction landscape. It can serve as a foundation for more in-depth investigations into specific cohorts or time periods, helping businesses tailor their services to evolving customer preferences."
   ]
  },
  {
   "cell_type": "code",
   "execution_count": null,
   "metadata": {},
   "outputs": [],
   "source": []
  }
 ],
 "metadata": {
  "kernelspec": {
   "display_name": "Python 3",
   "language": "python",
   "name": "python3"
  },
  "language_info": {
   "codemirror_mode": {
    "name": "ipython",
    "version": 3
   },
   "file_extension": ".py",
   "mimetype": "text/x-python",
   "name": "python",
   "nbconvert_exporter": "python",
   "pygments_lexer": "ipython3",
   "version": "3.8.3"
  }
 },
 "nbformat": 4,
 "nbformat_minor": 2
}
